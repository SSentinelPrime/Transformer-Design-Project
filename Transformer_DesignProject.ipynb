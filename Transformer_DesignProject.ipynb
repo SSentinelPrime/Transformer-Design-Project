{
 "cells": [
  {
   "cell_type": "code",
   "execution_count": 6,
   "id": "a051e529",
   "metadata": {},
   "outputs": [
    {
     "name": "stdout",
     "output_type": "stream",
     "text": [
      "************************\n",
      "Welcome to Transformer Design Program\n",
      "*********************************\n",
      "Please enter a(Window Width) value of design(cm): 2.54\n",
      "***\n",
      "Please enter Frequency of Design(Hz): 50\n",
      "***\n",
      "Please enter Primer Voltage(V): 230\n",
      "***\n",
      "Please enter Seconder Voltage(V): 12\n",
      "***\n",
      "Please enter Power of Transformer(VA): 12\n",
      "***\n",
      "Please enter Efficiency of Transformer\n",
      "***\n",
      "If it is not possible type 100: 90\n",
      "***\n",
      "Please enter Regulation Value of Transformer\n",
      "***\n",
      "If it is not possible type 1: 5\n",
      "***\n",
      "Please enter C Value of Transformer\n",
      "***\n",
      "If it is not possible type 1: 1\n"
     ]
    }
   ],
   "source": [
    "import math\n",
    "print(\"************************\\nWelcome to Transformer Design Program\\n*********************************\")\n",
    "a = float(input(\"Please enter a(Window Width) value of design(cm): \"))\n",
    "\n",
    "Frequency = float(input(\"***\\nPlease enter Frequency of Design(Hz): \"))\n",
    "Volt_Primer = float(input(\"***\\nPlease enter Primer Voltage(V): \"))\n",
    "Volt_Seconder = float(input(\"***\\nPlease enter Seconder Voltage(V): \"))\n",
    "Transformer_Power = float(input(\"***\\nPlease enter Power of Transformer(VA): \"))\n",
    "Efficency = float(input(\"***\\nPlease enter Efficiency of Transformer\\n***\\nIf it is not possible type 100: \"))\n",
    "Regulation = float(input(\"***\\nPlease enter Regulation Value of Transformer\\n***\\nIf it is not possible type 1: \"))\n",
    "C_Value = float(input(\"***\\nPlease enter C Value of Transformer\\n***\\nIf it is not possible type 1: \"))\n"
   ]
  },
  {
   "cell_type": "code",
   "execution_count": 8,
   "id": "e6b0201b",
   "metadata": {},
   "outputs": [
    {
     "name": "stdout",
     "output_type": "stream",
     "text": [
      "*********************************************************************\n",
      "***\n",
      "Please enter thickness of one Sheet(cm): 0.05\n"
     ]
    }
   ],
   "source": [
    "Efficency_Percentage = Efficency/100\n",
    "Secondary_Power = Transformer_Power/Efficency_Percentage\n",
    "Wind_CrossSectionalArea = math.sqrt(Secondary_Power)*C_Value\n",
    "b = Wind_CrossSectionalArea/a\n",
    "print(\"*********************************************************************\")\n",
    "ThicknessofSheet = float(input(\"***\\nPlease enter thickness of one Sheet(cm): \"))\n",
    "NumberofSheet = b/ThicknessofSheet\n"
   ]
  },
  {
   "cell_type": "code",
   "execution_count": 9,
   "id": "a305c17f",
   "metadata": {},
   "outputs": [
    {
     "name": "stdout",
     "output_type": "stream",
     "text": [
      "*********************************************************************\n",
      "***\n",
      "Please enter Magnetic Flux Intensity\n",
      "***\n",
      "If it is not possible type 11000(B): 10000\n"
     ]
    }
   ],
   "source": [
    "Max_FluxDensityofTransformer = 4.44\n",
    "print(\"*********************************************************************\")\n",
    "Magnetic_Flux_Intensity = float(input(\"***\\nPlease enter Magnetic Flux Intensity\\n***\\nIf it is not possible type 11000(B): \"))\n",
    "PrimaryNumberofTurn = ((Volt_Primer)/(Max_FluxDensityofTransformer*Magnetic_Flux_Intensity*Wind_CrossSectionalArea*Frequency))*math.pow(10,8)\n",
    "SecondaryNumberofTurn = ((Volt_Seconder)/(Max_FluxDensityofTransformer*Magnetic_Flux_Intensity*Wind_CrossSectionalArea*Frequency))*math.pow(10,8)\n",
    "Eff_N1 = round(PrimaryNumberofTurn)\n",
    "Regulate_N2 = SecondaryNumberofTurn*((Regulation/100)+1)\n",
    "Eff_N2 = round(Regulate_N2)\n"
   ]
  },
  {
   "cell_type": "code",
   "execution_count": 10,
   "id": "32e7445d",
   "metadata": {},
   "outputs": [
    {
     "name": "stdout",
     "output_type": "stream",
     "text": [
      "***\n",
      "Please enter Current Intensity\n",
      "***\n",
      "If it is not possible type 2.5: 4\n"
     ]
    }
   ],
   "source": [
    "Primer_Current = Transformer_Power/Volt_Primer\n",
    "Seconder_Current = Secondary_Power/Volt_Seconder\n",
    "J = float(input(\"***\\nPlease enter Current Intensity\\n***\\nIf it is not possible type 2.5: \"))\n",
    "CrossSectionArea_Primer = Primer_Current/J\n",
    "CrossSectionArea_Seconder = Seconder_Current/J\n",
    "Diameter_Primer = math.sqrt((4*CrossSectionArea_Primer)/math.pi)\n",
    "Diameter_Seconder = math.sqrt((4*CrossSectionArea_Seconder)/math.pi)\n",
    "PrimerSafeDia = (Diameter_Primer+0.1)\n",
    "SeconderSafeDiameter = (Diameter_Seconder+0.1)\n"
   ]
  },
  {
   "cell_type": "code",
   "execution_count": 11,
   "id": "c27c4eb8",
   "metadata": {},
   "outputs": [
    {
     "name": "stdout",
     "output_type": "stream",
     "text": [
      "Your Primer Voltage 230.000000 Volt.\n",
      "Your Seconder Voltage 12.000000 Volt.\n",
      "Your Power of Transformer 12.000000 VA.\n",
      "Your Sheet's Window Width 2.540000 cm.\n",
      "Your Thickness of Transformer 1.437592 cm.\n",
      "Your Cross Sectional Area of Transformer 3.651484 cm2.\n",
      "*********************************************************************\n",
      "*********************************************************************\n",
      "*********************************************************************\n",
      "You should use 29.000000 pieces sheets for this design.\n",
      "Primary Number of Turn N1 = 2837.000000 Turn\n",
      "Secondary Number of Turn N2 = 155.000000 Turn\n",
      "Your Ratio of Transformer 18.303226.\n",
      "*********************************************************************\n",
      "*********************************************************************\n",
      "*********************************************************************\n",
      "Your Primer Current 0.052174 Ampere.\n",
      "Your Seconder Current 1.111111 Ampere.\n",
      "*********************************************************************\n",
      "*********************************************************************\n",
      "*********************************************************************\n",
      "You Should Use more than 0.228870 mm Copper Wire in Primer Side.\n",
      "You Should Use more than 0.694708 mm Copper Wire in Seconder Side.\n",
      "*********************************************************************\n",
      "*********************************************************************\n",
      "*********************************************************************\n"
     ]
    }
   ],
   "source": [
    "print(\"Your Primer Voltage %f Volt.\"%Volt_Primer)\n",
    "print(\"Your Seconder Voltage %f Volt.\"%Volt_Seconder)\n",
    "print(\"Your Power of Transformer %f VA.\"%Transformer_Power)\n",
    "print(\"Your Sheet's Window Width %f cm.\"%a)\n",
    "print(\"Your Thickness of Transformer %f cm.\"%b)\n",
    "CS_Area = a*b\n",
    "print(\"Your Cross Sectional Area of Transformer %f cm2.\"%CS_Area)\n",
    "print(\"*********************************************************************\")\n",
    "print(\"*********************************************************************\")\n",
    "print(\"*********************************************************************\")\n",
    "Safe_NumberofSheet = round(NumberofSheet)\n",
    "print(\"You should use %f pieces sheets for this design.\"%Safe_NumberofSheet)\n",
    "print(\"Primary Number of Turn N1 = %f Turn\"%Eff_N1)\n",
    "print(\"Secondary Number of Turn N2 = %f Turn\"%Eff_N2)\n",
    "Ratio_a = Eff_N1/Eff_N2\n",
    "print(\"Your Ratio of Transformer %f.\"%Ratio_a)\n",
    "print(\"*********************************************************************\")\n",
    "print(\"*********************************************************************\")\n",
    "print(\"*********************************************************************\")\n",
    "print(\"Your Primer Current %f Ampere.\"%Primer_Current)\n",
    "print(\"Your Seconder Current %f Ampere.\"%Seconder_Current)\n",
    "print(\"*********************************************************************\")\n",
    "print(\"*********************************************************************\")\n",
    "print(\"*********************************************************************\")\n",
    "print(\"You Should Use more than %f mm Copper Wire in Primer Side.\"%PrimerSafeDia)\n",
    "print(\"You Should Use more than %f mm Copper Wire in Seconder Side.\"%SeconderSafeDiameter)\n",
    "print(\"*********************************************************************\")\n",
    "print(\"*********************************************************************\")\n",
    "print(\"*********************************************************************\")\n"
   ]
  },
  {
   "cell_type": "code",
   "execution_count": null,
   "id": "43399938",
   "metadata": {},
   "outputs": [],
   "source": []
  }
 ],
 "metadata": {
  "kernelspec": {
   "display_name": "Python 3",
   "language": "python",
   "name": "python3"
  },
  "language_info": {
   "codemirror_mode": {
    "name": "ipython",
    "version": 3
   },
   "file_extension": ".py",
   "mimetype": "text/x-python",
   "name": "python",
   "nbconvert_exporter": "python",
   "pygments_lexer": "ipython3",
   "version": "3.8.8"
  }
 },
 "nbformat": 4,
 "nbformat_minor": 5
}
